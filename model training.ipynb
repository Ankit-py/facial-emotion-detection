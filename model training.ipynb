{
 "cells": [
  {
   "cell_type": "code",
   "execution_count": 1,
   "metadata": {},
   "outputs": [],
   "source": [
    "import sys\n",
    "import os\n",
    "import numpy as np\n",
    "import pandas as pd\n",
    "from keras.models import Sequential\n",
    "from keras.layers import Dense , Dropout , Activation , Flatten\n",
    "from keras.layers import Conv2D,MaxPooling2D,BatchNormalization\n",
    "from keras.losses import categorical_crossentropy\n",
    "from keras.optimizers import Adam\n",
    "from keras.regularizers import l2\n",
    "from keras.utils import np_utils"
   ]
  },
  {
   "cell_type": "code",
   "execution_count": 2,
   "metadata": {},
   "outputs": [],
   "source": [
    "df=pd.read_csv('fer2013.csv')"
   ]
  },
  {
   "cell_type": "code",
   "execution_count": 3,
   "metadata": {},
   "outputs": [],
   "source": [
    "x_train ,y_train,x_test,y_test = [],[],[],[]"
   ]
  },
  {
   "cell_type": "code",
   "execution_count": 4,
   "metadata": {},
   "outputs": [],
   "source": [
    "for index,row in df.iterrows():\n",
    "    val = row['pixels'].split(\" \")\n",
    "    try:\n",
    "        if 'Training' in row['Usage']:\n",
    "            x_train.append(np.array(val,'float32'))\n",
    "            y_train.append(row['emotion'])\n",
    "        elif 'PublicTest' in row['Usage']:\n",
    "            x_test.append(np.array(val,'float32'))\n",
    "            y_test.append(row['emotion'])\n",
    "    except:\n",
    "        print(f'error occured at index :{index} and row:{row}')\n"
   ]
  },
  {
   "cell_type": "code",
   "execution_count": 5,
   "metadata": {},
   "outputs": [],
   "source": [
    "num_features = 64\n",
    "num_labels = 7\n",
    "batch_size = 64\n",
    "epochs = 30\n",
    "width , height = 48, 48"
   ]
  },
  {
   "cell_type": "code",
   "execution_count": 6,
   "metadata": {},
   "outputs": [],
   "source": [
    "x_train = np.array(x_train,'float32')\n",
    "y_train = np.array(y_train,'float32')\n",
    "\n",
    "x_test = np.array(x_test,'float32')\n",
    "y_test = np.array(y_test,'float32')\n"
   ]
  },
  {
   "cell_type": "code",
   "execution_count": 7,
   "metadata": {},
   "outputs": [],
   "source": [
    "y_train = np_utils.to_categorical(y_train , num_classes=num_labels)\n",
    "y_test = np_utils.to_categorical(y_test,num_classes=num_labels)"
   ]
  },
  {
   "cell_type": "code",
   "execution_count": 8,
   "metadata": {},
   "outputs": [],
   "source": [
    "x_train -= np.mean(x_train,axis=0)\n",
    "x_train /= np.std(x_train, axis=0)\n",
    "\n",
    "x_test -= np.mean(x_test,axis=0)\n",
    "x_test /= np.std(x_test, axis=0)"
   ]
  },
  {
   "cell_type": "code",
   "execution_count": 9,
   "metadata": {},
   "outputs": [],
   "source": [
    "x_train = x_train.reshape(x_train.shape[0], 48, 48, 1)\n",
    "x_test = x_test.reshape(x_test.shape[0], 48, 48, 1)"
   ]
  },
  {
   "cell_type": "code",
   "execution_count": 10,
   "metadata": {},
   "outputs": [],
   "source": [
    "model = Sequential()"
   ]
  },
  {
   "cell_type": "code",
   "execution_count": 11,
   "metadata": {},
   "outputs": [],
   "source": [
    "model.add(Conv2D(64, kernel_size=(3, 3), activation='relu', input_shape=(x_train.shape[1:])))\n",
    "model.add(Conv2D(64,kernel_size= (3, 3), activation='relu'))\n",
    "model.add(MaxPooling2D(pool_size=(2,2), strides=(2, 2)))\n",
    "model.add(Dropout(0.5))\n",
    "\n",
    "model.add(Conv2D(64, (3, 3), activation='relu'))\n",
    "model.add(Conv2D(64, (3, 3), activation='relu'))\n",
    "model.add(MaxPooling2D(pool_size=(2,2), strides=(2, 2)))\n",
    "model.add(Dropout(0.5))\n",
    "\n",
    "model.add(Conv2D(128, (3, 3), activation='relu'))\n",
    "model.add(Conv2D(128, (3, 3), activation='relu'))\n",
    "model.add(MaxPooling2D(pool_size=(2,2), strides=(2, 2)))\n",
    "\n",
    "model.add(Flatten())\n",
    "\n",
    "model.add(Dense(1024, activation='relu'))\n",
    "model.add(Dropout(0.2))\n",
    "model.add(Dense(1024, activation='relu'))\n",
    "model.add(Dropout(0.2))\n",
    "\n",
    "model.add(Dense(num_labels, activation='softmax'))"
   ]
  },
  {
   "cell_type": "code",
   "execution_count": 12,
   "metadata": {},
   "outputs": [
    {
     "name": "stdout",
     "output_type": "stream",
     "text": [
      "Epoch 1/30\n",
      "449/449 [==============================] - 287s 640ms/step - loss: 1.7129 - accuracy: 0.3020 - val_loss: 1.5572 - val_accuracy: 0.3834\n",
      "Epoch 2/30\n",
      "449/449 [==============================] - 293s 654ms/step - loss: 1.5172 - accuracy: 0.4073 - val_loss: 1.3924 - val_accuracy: 0.4650\n",
      "Epoch 3/30\n",
      "449/449 [==============================] - 298s 665ms/step - loss: 1.4192 - accuracy: 0.4491 - val_loss: 1.3214 - val_accuracy: 0.4862\n",
      "Epoch 4/30\n",
      "449/449 [==============================] - 292s 650ms/step - loss: 1.3478 - accuracy: 0.4817 - val_loss: 1.3014 - val_accuracy: 0.5001\n",
      "Epoch 5/30\n",
      "449/449 [==============================] - 302s 674ms/step - loss: 1.3130 - accuracy: 0.4933 - val_loss: 1.2849 - val_accuracy: 0.5077\n",
      "Epoch 6/30\n",
      "449/449 [==============================] - 319s 711ms/step - loss: 1.2706 - accuracy: 0.5122 - val_loss: 1.2356 - val_accuracy: 0.5233\n",
      "Epoch 7/30\n",
      "449/449 [==============================] - 308s 686ms/step - loss: 1.2352 - accuracy: 0.5271 - val_loss: 1.2118 - val_accuracy: 0.5436\n",
      "Epoch 8/30\n",
      "449/449 [==============================] - 313s 697ms/step - loss: 1.2148 - accuracy: 0.5373 - val_loss: 1.2154 - val_accuracy: 0.5386\n",
      "Epoch 9/30\n",
      "449/449 [==============================] - 299s 667ms/step - loss: 1.1895 - accuracy: 0.5449 - val_loss: 1.2112 - val_accuracy: 0.5327\n",
      "Epoch 10/30\n",
      "449/449 [==============================] - 302s 672ms/step - loss: 1.1721 - accuracy: 0.5537 - val_loss: 1.1976 - val_accuracy: 0.5425\n",
      "Epoch 11/30\n",
      "449/449 [==============================] - 316s 704ms/step - loss: 1.1540 - accuracy: 0.5587 - val_loss: 1.1864 - val_accuracy: 0.5483\n",
      "Epoch 12/30\n",
      "449/449 [==============================] - 342s 761ms/step - loss: 1.1321 - accuracy: 0.5655 - val_loss: 1.1698 - val_accuracy: 0.5545\n",
      "Epoch 13/30\n",
      "449/449 [==============================] - 313s 697ms/step - loss: 1.1179 - accuracy: 0.5686 - val_loss: 1.1698 - val_accuracy: 0.5506\n",
      "Epoch 14/30\n",
      "449/449 [==============================] - 304s 677ms/step - loss: 1.0965 - accuracy: 0.5809 - val_loss: 1.1436 - val_accuracy: 0.5567\n",
      "Epoch 15/30\n",
      "449/449 [==============================] - 315s 701ms/step - loss: 1.0743 - accuracy: 0.5897 - val_loss: 1.1792 - val_accuracy: 0.5514\n",
      "Epoch 16/30\n",
      "449/449 [==============================] - 305s 680ms/step - loss: 1.0635 - accuracy: 0.5936 - val_loss: 1.1270 - val_accuracy: 0.5659\n",
      "Epoch 17/30\n",
      "449/449 [==============================] - 304s 677ms/step - loss: 1.0464 - accuracy: 0.5996 - val_loss: 1.1457 - val_accuracy: 0.5659\n",
      "Epoch 18/30\n",
      "449/449 [==============================] - 303s 674ms/step - loss: 1.0259 - accuracy: 0.6074 - val_loss: 1.1493 - val_accuracy: 0.5678\n",
      "Epoch 19/30\n",
      "449/449 [==============================] - 303s 675ms/step - loss: 1.0080 - accuracy: 0.6174 - val_loss: 1.1532 - val_accuracy: 0.5676\n",
      "Epoch 20/30\n",
      "449/449 [==============================] - 308s 686ms/step - loss: 1.0044 - accuracy: 0.6168 - val_loss: 1.1598 - val_accuracy: 0.5648\n",
      "Epoch 21/30\n",
      "449/449 [==============================] - 312s 695ms/step - loss: 0.9872 - accuracy: 0.6253 - val_loss: 1.1689 - val_accuracy: 0.5673\n",
      "Epoch 22/30\n",
      "449/449 [==============================] - 307s 683ms/step - loss: 0.9674 - accuracy: 0.6312 - val_loss: 1.1825 - val_accuracy: 0.5704\n",
      "Epoch 23/30\n",
      "449/449 [==============================] - 309s 688ms/step - loss: 0.9460 - accuracy: 0.6393 - val_loss: 1.1701 - val_accuracy: 0.5670\n",
      "Epoch 24/30\n",
      "449/449 [==============================] - 309s 689ms/step - loss: 0.9361 - accuracy: 0.6437 - val_loss: 1.1833 - val_accuracy: 0.5626\n",
      "Epoch 25/30\n",
      "449/449 [==============================] - 308s 686ms/step - loss: 0.9139 - accuracy: 0.6521 - val_loss: 1.2546 - val_accuracy: 0.5495\n",
      "Epoch 26/30\n",
      "449/449 [==============================] - 304s 677ms/step - loss: 0.9122 - accuracy: 0.6515 - val_loss: 1.2065 - val_accuracy: 0.5673\n",
      "Epoch 27/30\n",
      "449/449 [==============================] - 303s 674ms/step - loss: 0.8937 - accuracy: 0.6629 - val_loss: 1.1769 - val_accuracy: 0.5667\n",
      "Epoch 28/30\n",
      "449/449 [==============================] - 308s 685ms/step - loss: 0.8699 - accuracy: 0.6719 - val_loss: 1.2154 - val_accuracy: 0.5614\n",
      "Epoch 29/30\n",
      "449/449 [==============================] - 304s 676ms/step - loss: 0.8606 - accuracy: 0.6718 - val_loss: 1.2329 - val_accuracy: 0.5653\n",
      "Epoch 30/30\n",
      "449/449 [==============================] - 305s 679ms/step - loss: 0.8527 - accuracy: 0.6765 - val_loss: 1.2424 - val_accuracy: 0.5687\n"
     ]
    }
   ],
   "source": [
    "model.compile(loss=categorical_crossentropy,\n",
    "              optimizer=Adam(),\n",
    "              metrics=['accuracy'])\n",
    "\n",
    "model.fit(x_train,y_train,\n",
    "          batch_size=batch_size,\n",
    "          epochs=epochs,\n",
    "          verbose=1,\n",
    "          validation_data=(x_test, y_test),\n",
    "          shuffle=True)\n",
    "\n",
    "fer_json = model.to_json()\n",
    "with open(\"fer.json\", \"w\") as json_file:\n",
    "    json_file.write(fer_json)\n",
    "model.save_weights(\"fer.h5\")"
   ]
  },
  {
   "cell_type": "code",
   "execution_count": null,
   "metadata": {},
   "outputs": [],
   "source": []
  }
 ],
 "metadata": {
  "kernelspec": {
   "display_name": "Python 3",
   "language": "python",
   "name": "python3"
  },
  "language_info": {
   "codemirror_mode": {
    "name": "ipython",
    "version": 3
   },
   "file_extension": ".py",
   "mimetype": "text/x-python",
   "name": "python",
   "nbconvert_exporter": "python",
   "pygments_lexer": "ipython3",
   "version": "3.8.5"
  }
 },
 "nbformat": 4,
 "nbformat_minor": 4
}
